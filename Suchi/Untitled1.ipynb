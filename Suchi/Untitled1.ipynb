{
 "cells": [
  {
   "cell_type": "code",
   "execution_count": 1,
   "metadata": {},
   "outputs": [],
   "source": [
    "import numpy as np\n",
    "import cv2\n",
    "from PIL import Image"
   ]
  },
  {
   "cell_type": "code",
   "execution_count": 2,
   "metadata": {},
   "outputs": [],
   "source": [
    "img=cv2.imread(\"/Users/suchismithavedala/Desktop/Fall 2017/DIP/Assignment 2/assignment-2-Suchismitha-Vedala/Lenna0.jpg\")"
   ]
  },
  {
   "cell_type": "code",
   "execution_count": null,
   "metadata": {},
   "outputs": [],
   "source": [
    "im=Image.fromarray(img)\n",
    "im.show()"
   ]
  },
  {
   "cell_type": "code",
   "execution_count": null,
   "metadata": {},
   "outputs": [],
   "source": [
    "cv2.namedWindow(\"A\")\n",
    "cv2.imshow(\"A\", new_img)\n",
    "cv2.waitKey(0)\n",
    "\n"
   ]
  },
  {
   "cell_type": "code",
   "execution_count": 3,
   "metadata": {},
   "outputs": [],
   "source": [
    "\n",
    "M,N,c=img.shape\n",
    "histx=histy=histz=[0 for i in range(256)]\n",
    "for i in range(M):\n",
    "    for j in range(N):\n",
    "        histx[img[i,j,0]]=histx[img[i,j,0]]+1\n",
    "        histy[img[i,j,1]]=histy[img[i,j,1]]+1\n",
    "        histz[img[i,j,2]]=histz[img[i,j,2]]+1\n",
    "cdfx = [sum(histx[:i+1]) for i in range(len(histx))]\n",
    "cdfy =[sum(histy[:i+1]) for i in range(len(histy))]\n",
    "cdfz =[sum(histz[:i+1]) for i in range(len(histz))]\n",
    "cdfx1=cdfy1=cdfz1=[0 for i in range(256)]\n",
    "mx1 = min(i for i in cdfx if i > 0)\n",
    "my1 = min(i for i in cdfy if i > 0)\n",
    "mz1 = min(i for i in cdfz if i > 0)\n",
    "mx2=np.max(cdfx)\n",
    "my2=np.max(cdfy)\n",
    "mz2=np.max(cdfz)\n",
    "cx=mx2-mx1\n",
    "cy=my2-my1\n",
    "cz=mz2-mz1\n",
    "for i in range(256):\n",
    "    if(cdfx[i]>0):\n",
    "        cdfx1[i]=(cdfx[i]-mx1)*255/(cx)\n",
    "    else:\n",
    "        cdfx1[i]=cdfx[i]\n",
    "for i in range(256):\n",
    "    if(cdfy[i]>0):\n",
    "        cdfy1[i]=(cdfy[i]-my1)*255/(cy)\n",
    "    else:\n",
    "        cdfy1[i]=cdfy[i]\n",
    "for i in range(256):\n",
    "    if(cdfz[i]>0):\n",
    "        cdfz1[i]=(cdfz[i]-mz1)*255/(cz)\n",
    "    else:\n",
    "        cdfz1[i]=cdfz[i]\n",
    "\n",
    "new_img=np.zeros((int(M),int(N),int(c)),np.uint8)\n",
    "for i in range(M):\n",
    "    for j in range(N):\n",
    "        new_img[i, j,0] = cdfx1[img[i, j,0]]\n",
    "        new_img[i, j,1] = cdfy1[img[i, j,1]]\n",
    "        new_img[i, j,2] = cdfz1[img[i, j,2]]\n",
    "\n",
    "equalized_hist=[0 for i in range(256)]\n",
    "for i in range(M):\n",
    "    for j in range(N):\n",
    "        equalized_hist[new_img[i,j,0]]=equalized_hist[new_img[i,j,0]]+1\n"
   ]
  },
  {
   "cell_type": "code",
   "execution_count": null,
   "metadata": {},
   "outputs": [],
   "source": [
    "\n",
    "\n",
    "\n",
    "M,N,c=img.shape\n",
    "hist=[0 for i in range(256)]\n",
    "for i in range(M):\n",
    "    for j in range(N):\n",
    "        hist[img[i,j]]=hist[img[i,j]]+1\n",
    "cdf = [sum(hist[:i+1]) for i in range(len(hist))]\n",
    "cdf1=[0 for i in range(256)]\n",
    "m1 = min(i for i in cdf if i > 0)\n",
    "m2=np.max(cdf)\n",
    "c=m2-m1\n",
    "for i in range(256):\n",
    "    if(cdf[i]>0):\n",
    "        cdf1[i]=(cdf[i]-m1)*255/(c)\n",
    "    else:\n",
    "        cdf1[i]=cdf[i]\n",
    "new_img=np.zeros((int(M),int(N)),np.uint8)\n",
    "for i in range(M):\n",
    "    for j in range(N):\n",
    "        new_img[i, j] = cdf1[img[i, j]]\n",
    "\n",
    "equalized_hist=[0 for i in range(256)]\n",
    "for i in range(M):\n",
    "    for j in range(N):\n",
    "        equalized_hist[new_img[i,j]]=equalized_hist[new_img[i,j]]+1\n"
   ]
  },
  {
   "cell_type": "code",
   "execution_count": null,
   "metadata": {},
   "outputs": [],
   "source": [
    "im=Image.fromarray(new_img)\n",
    "im.show()"
   ]
  },
  {
   "cell_type": "code",
   "execution_count": null,
   "metadata": {},
   "outputs": [],
   "source": []
  }
 ],
 "metadata": {
  "kernelspec": {
   "display_name": "Python 2",
   "language": "python",
   "name": "python2"
  },
  "language_info": {
   "codemirror_mode": {
    "name": "ipython",
    "version": 2
   },
   "file_extension": ".py",
   "mimetype": "text/x-python",
   "name": "python",
   "nbconvert_exporter": "python",
   "pygments_lexer": "ipython2",
   "version": "2.7.10"
  }
 },
 "nbformat": 4,
 "nbformat_minor": 2
}
