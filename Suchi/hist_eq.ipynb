{
 "cells": [
  {
   "cell_type": "code",
   "execution_count": 23,
   "metadata": {
    "collapsed": true
   },
   "outputs": [],
   "source": [
    "import cv2\n",
    "import sys\n",
    "import numpy as np\n",
    "from numpy.random import rand\n",
    "from datetime import datetime\n",
    "from numpy import zeros, newaxis\n",
    "from matplotlib import pyplot as plt\n",
    "import math,cmath"
   ]
  },
  {
   "cell_type": "code",
   "execution_count": 24,
   "metadata": {
    "collapsed": true
   },
   "outputs": [],
   "source": [
    "img=cv2.imread(\"/Users/suchi/Desktop/Fall 2017/DIP/Project/Lenna.png\",0)"
   ]
  },
  {
   "cell_type": "code",
   "execution_count": 25,
   "metadata": {},
   "outputs": [],
   "source": [
    "M,N=img.shape"
   ]
  },
  {
   "cell_type": "code",
   "execution_count": 26,
   "metadata": {
    "collapsed": true
   },
   "outputs": [],
   "source": [
    "hist=[0 for i in range(256)]\n",
    "for i in range(M):\n",
    "    for j in range(N):\n",
    "        hist[img[i,j]]=hist[img[i,j]]+1\n",
    "    "
   ]
  },
  {
   "cell_type": "code",
   "execution_count": 27,
   "metadata": {},
   "outputs": [],
   "source": [
    "cdf = [sum(hist[:i+1]) for i in range(len(hist))]"
   ]
  },
  {
   "cell_type": "code",
   "execution_count": 39,
   "metadata": {
    "collapsed": true
   },
   "outputs": [],
   "source": [
    "cdf1=[0 for i in range(256)]"
   ]
  },
  {
   "cell_type": "code",
   "execution_count": 28,
   "metadata": {},
   "outputs": [],
   "source": [
    "m1 = min(i for i in cdf if i > 0)"
   ]
  },
  {
   "cell_type": "code",
   "execution_count": 29,
   "metadata": {},
   "outputs": [
    {
     "data": {
      "text/plain": [
       "45"
      ]
     },
     "execution_count": 29,
     "metadata": {},
     "output_type": "execute_result"
    }
   ],
   "source": [
    "m1"
   ]
  },
  {
   "cell_type": "code",
   "execution_count": 30,
   "metadata": {
    "collapsed": true
   },
   "outputs": [],
   "source": [
    "m2=np.max(cdf)"
   ]
  },
  {
   "cell_type": "code",
   "execution_count": 31,
   "metadata": {},
   "outputs": [
    {
     "data": {
      "text/plain": [
       "262144"
      ]
     },
     "execution_count": 31,
     "metadata": {},
     "output_type": "execute_result"
    }
   ],
   "source": [
    "m2"
   ]
  },
  {
   "cell_type": "code",
   "execution_count": 37,
   "metadata": {
    "collapsed": true
   },
   "outputs": [],
   "source": [
    "c=m2-m1"
   ]
  },
  {
   "cell_type": "code",
   "execution_count": 40,
   "metadata": {},
   "outputs": [],
   "source": [
    "for i in range(256):\n",
    "    if(cdf[i]>0):\n",
    "        cdf1[i]=(cdf[i]-m1)*255/(c)\n",
    "    else:\n",
    "        cdf1[i]=cdf[i]\n",
    "        "
   ]
  },
  {
   "cell_type": "code",
   "execution_count": 41,
   "metadata": {},
   "outputs": [
    {
     "data": {
      "text/plain": [
       "[0,\n",
       " 0,\n",
       " 0,\n",
       " 0,\n",
       " 0,\n",
       " 0,\n",
       " 0,\n",
       " 0,\n",
       " 0,\n",
       " 0,\n",
       " 0,\n",
       " 0,\n",
       " 0,\n",
       " 0,\n",
       " 0,\n",
       " 0,\n",
       " 0,\n",
       " 0,\n",
       " 0,\n",
       " 0,\n",
       " 0,\n",
       " 0,\n",
       " 0,\n",
       " 0,\n",
       " 0,\n",
       " 0,\n",
       " 0,\n",
       " 0,\n",
       " 0,\n",
       " 0,\n",
       " 0,\n",
       " 0,\n",
       " 0,\n",
       " 0,\n",
       " 0,\n",
       " 0,\n",
       " 0,\n",
       " 0,\n",
       " 0,\n",
       " 0,\n",
       " 0,\n",
       " 0,\n",
       " 0,\n",
       " 0,\n",
       " 0,\n",
       " 0,\n",
       " 1,\n",
       " 1,\n",
       " 1,\n",
       " 1,\n",
       " 3,\n",
       " 3,\n",
       " 3,\n",
       " 7,\n",
       " 7,\n",
       " 7,\n",
       " 12,\n",
       " 12,\n",
       " 12,\n",
       " 18,\n",
       " 18,\n",
       " 24,\n",
       " 24,\n",
       " 24,\n",
       " 29,\n",
       " 29,\n",
       " 33,\n",
       " 33,\n",
       " 36,\n",
       " 36,\n",
       " 39,\n",
       " 39,\n",
       " 41,\n",
       " 41,\n",
       " 42,\n",
       " 42,\n",
       " 44,\n",
       " 44,\n",
       " 45,\n",
       " 45,\n",
       " 47,\n",
       " 47,\n",
       " 48,\n",
       " 48,\n",
       " 49,\n",
       " 51,\n",
       " 51,\n",
       " 52,\n",
       " 52,\n",
       " 53,\n",
       " 55,\n",
       " 55,\n",
       " 56,\n",
       " 58,\n",
       " 58,\n",
       " 59,\n",
       " 60,\n",
       " 60,\n",
       " 62,\n",
       " 63,\n",
       " 63,\n",
       " 65,\n",
       " 66,\n",
       " 68,\n",
       " 68,\n",
       " 69,\n",
       " 71,\n",
       " 73,\n",
       " 73,\n",
       " 74,\n",
       " 76,\n",
       " 79,\n",
       " 81,\n",
       " 81,\n",
       " 84,\n",
       " 86,\n",
       " 89,\n",
       " 91,\n",
       " 93,\n",
       " 94,\n",
       " 96,\n",
       " 96,\n",
       " 98,\n",
       " 99,\n",
       " 100,\n",
       " 102,\n",
       " 104,\n",
       " 105,\n",
       " 107,\n",
       " 108,\n",
       " 110,\n",
       " 111,\n",
       " 113,\n",
       " 115,\n",
       " 117,\n",
       " 119,\n",
       " 121,\n",
       " 123,\n",
       " 125,\n",
       " 128,\n",
       " 130,\n",
       " 133,\n",
       " 136,\n",
       " 138,\n",
       " 142,\n",
       " 144,\n",
       " 146,\n",
       " 148,\n",
       " 150,\n",
       " 152,\n",
       " 154,\n",
       " 159,\n",
       " 161,\n",
       " 163,\n",
       " 166,\n",
       " 168,\n",
       " 173,\n",
       " 175,\n",
       " 177,\n",
       " 179,\n",
       " 184,\n",
       " 186,\n",
       " 188,\n",
       " 191,\n",
       " 195,\n",
       " 196,\n",
       " 198,\n",
       " 201,\n",
       " 202,\n",
       " 203,\n",
       " 206,\n",
       " 207,\n",
       " 208,\n",
       " 210,\n",
       " 211,\n",
       " 212,\n",
       " 213,\n",
       " 214,\n",
       " 216,\n",
       " 217,\n",
       " 219,\n",
       " 220,\n",
       " 222,\n",
       " 223,\n",
       " 224,\n",
       " 225,\n",
       " 226,\n",
       " 226,\n",
       " 227,\n",
       " 228,\n",
       " 229,\n",
       " 229,\n",
       " 230,\n",
       " 231,\n",
       " 232,\n",
       " 233,\n",
       " 233,\n",
       " 234,\n",
       " 235,\n",
       " 236,\n",
       " 237,\n",
       " 238,\n",
       " 239,\n",
       " 240,\n",
       " 240,\n",
       " 241,\n",
       " 243,\n",
       " 244,\n",
       " 244,\n",
       " 245,\n",
       " 247,\n",
       " 247,\n",
       " 248,\n",
       " 249,\n",
       " 250,\n",
       " 251,\n",
       " 251,\n",
       " 252,\n",
       " 252,\n",
       " 253,\n",
       " 253,\n",
       " 253,\n",
       " 254,\n",
       " 254,\n",
       " 254,\n",
       " 254,\n",
       " 254,\n",
       " 254,\n",
       " 254,\n",
       " 254,\n",
       " 254,\n",
       " 254,\n",
       " 254,\n",
       " 254,\n",
       " 254,\n",
       " 254,\n",
       " 254,\n",
       " 254,\n",
       " 254,\n",
       " 254,\n",
       " 254,\n",
       " 254,\n",
       " 254,\n",
       " 254,\n",
       " 254,\n",
       " 255,\n",
       " 255,\n",
       " 255,\n",
       " 255,\n",
       " 255,\n",
       " 255,\n",
       " 255,\n",
       " 255,\n",
       " 255,\n",
       " 255,\n",
       " 255]"
      ]
     },
     "execution_count": 41,
     "metadata": {},
     "output_type": "execute_result"
    }
   ],
   "source": [
    "cdf1"
   ]
  },
  {
   "cell_type": "code",
   "execution_count": 42,
   "metadata": {},
   "outputs": [
    {
     "ename": "TypeError",
     "evalue": "only integer scalar arrays can be converted to a scalar index",
     "output_type": "error",
     "traceback": [
      "\u001b[0;31m---------------------------------------------------------------------------\u001b[0m",
      "\u001b[0;31mTypeError\u001b[0m                                 Traceback (most recent call last)",
      "\u001b[0;32m<ipython-input-42-b2f683b22521>\u001b[0m in \u001b[0;36m<module>\u001b[0;34m()\u001b[0m\n\u001b[0;32m----> 1\u001b[0;31m \u001b[0mnew_img\u001b[0m\u001b[0;34m=\u001b[0m\u001b[0mcdf1\u001b[0m\u001b[0;34m[\u001b[0m\u001b[0mimg\u001b[0m\u001b[0;34m]\u001b[0m\u001b[0;34m\u001b[0m\u001b[0m\n\u001b[0m",
      "\u001b[0;31mTypeError\u001b[0m: only integer scalar arrays can be converted to a scalar index"
     ]
    }
   ],
   "source": [
    "new_img=cdf1[img]"
   ]
  },
  {
   "cell_type": "code",
   "execution_count": 18,
   "metadata": {},
   "outputs": [],
   "source": [
    "cdf_m = np.ma.masked_equal(cdf,0)\n",
    "cdf_m = (cdf_m - cdf_m.min())*255/(cdf_m.max()-cdf_m.min())\n",
    "cdf1 = np.ma.filled(cdf_m,0).astype('uint8')"
   ]
  },
  {
   "cell_type": "code",
   "execution_count": null,
   "metadata": {},
   "outputs": [],
   "source": [
    "cdf_m = np.ma.masked_equal(cdf,0)"
   ]
  },
  {
   "cell_type": "code",
   "execution_count": 20,
   "metadata": {},
   "outputs": [],
   "source": [
    "cdf_m = np.ma.masked_equal(cdf,0)"
   ]
  },
  {
   "cell_type": "code",
   "execution_count": null,
   "metadata": {},
   "outputs": [],
   "source": [
    "cdf1 = np.ma.filled(cdf_m,0).astype('uint8')"
   ]
  },
  {
   "cell_type": "code",
   "execution_count": 36,
   "metadata": {},
   "outputs": [
    {
     "data": {
      "text/plain": [
       "masked_array(data = [-- -- -- -- -- -- -- -- -- -- -- -- -- -- -- -- -- -- -- -- -- -- -- -- --\n",
       " -- -- -- -- -- -- -- -- -- -- -- -- -- -- 0 0 0 0 98940 98940 98940 397545\n",
       " 397545 397545 397545 961350 961350 961350 1875015 1875015 1875015 3270375\n",
       " 3270375 3270375 4917675 4917675 6427785 6427785 6427785 7729305 7729305\n",
       " 8832180 8832180 9622680 9622680 10254825 10254825 10788540 10788540\n",
       " 11229690 11229690 11629020 11629020 12003615 12003615 12354750 12354750\n",
       " 12697725 12697725 13038150 13386735 13386735 13747815 13747815 14124960\n",
       " 14499300 14499300 14872875 15239565 15239565 15578205 15943110 15943110\n",
       " 16316685 16700205 16700205 17088315 17487135 17896410 17896410 18323280\n",
       " 18732300 19176255 19176255 19628625 20143980 20755470 21417960 21417960\n",
       " 22099575 22759515 23372280 23914410 24431295 24872445 25299825 25299825\n",
       " 25696095 26084205 26469255 26859150 27261795 27653475 28062240 28455450\n",
       " 28893795 29351520 29823525 30281505 30770850 31259430 31775040 32335530\n",
       " 32949825 33625575 34295205 34965600 35650275 36265080 37396005 37900905\n",
       " 38393055 38883930 39378375 39903165 40473600 41702955 42317760 42956790\n",
       " 43571595 44210880 45390765 45961965 46542600 47140830 48337290 48937050\n",
       " 49503405 50084295 51148665 51607155 52048050 52784490 53120070 53447745\n",
       " 54014355 54286185 54550110 55048635 55306695 55786860 56026815 56281305\n",
       " 56783400 57035850 57540495 57788100 58251180 58464360 58847370 59013375\n",
       " 59293110 59430300 59690400 59814585 60040515 60157305 60421485 60557145\n",
       " 60835860 61127835 61279560 61592445 61752585 62052465 62340360 62492085\n",
       " 62772075 63029370 63163755 63418500 63690330 63976950 64134030 64452525\n",
       " 64767705 64920195 65210640 65502615 65744100 65957025 66038370 66182955\n",
       " 66298215 66403020 66495840 66571320 66607530 66664905 66719220 66753135\n",
       " 66777105 66792150 66806430 66816885 66824025 66827595 66830145 66831675\n",
       " 66833715 66833715 66833970 66833970 66834225 66834225 66834225 66834225\n",
       " 66834735 66834735 66834735 66835245 66835245 66835245 66835245 66835245\n",
       " 66835245 66835245 66835245 66835245 66835245 66835245],\n",
       "             mask = [ True  True  True  True  True  True  True  True  True  True  True  True\n",
       "  True  True  True  True  True  True  True  True  True  True  True  True\n",
       "  True  True  True  True  True  True  True  True  True  True  True  True\n",
       "  True  True  True False False False False False False False False False\n",
       " False False False False False False False False False False False False\n",
       " False False False False False False False False False False False False\n",
       " False False False False False False False False False False False False\n",
       " False False False False False False False False False False False False\n",
       " False False False False False False False False False False False False\n",
       " False False False False False False False False False False False False\n",
       " False False False False False False False False False False False False\n",
       " False False False False False False False False False False False False\n",
       " False False False False False False False False False False False False\n",
       " False False False False False False False False False False False False\n",
       " False False False False False False False False False False False False\n",
       " False False False False False False False False False False False False\n",
       " False False False False False False False False False False False False\n",
       " False False False False False False False False False False False False\n",
       " False False False False False False False False False False False False\n",
       " False False False False False False False False False False False False\n",
       " False False False False False False False False False False False False\n",
       " False False False False],\n",
       "       fill_value = 0)"
      ]
     },
     "execution_count": 36,
     "metadata": {},
     "output_type": "execute_result"
    }
   ],
   "source": [
    "(cdf_m - cdf_m.min())*255"
   ]
  },
  {
   "cell_type": "code",
   "execution_count": 22,
   "metadata": {},
   "outputs": [
    {
     "data": {
      "text/plain": [
       "masked_array(data = [-- -- -- -- -- -- -- -- -- -- -- -- -- -- -- -- -- -- -- -- -- -- -- -- --\n",
       " -- -- -- -- -- -- -- -- -- -- -- -- -- -- 0 0 0 0 388 388 388 1559 1559\n",
       " 1559 1559 3770 3770 3770 7353 7353 7353 12825 12825 12825 19285 19285\n",
       " 25207 25207 25207 30311 30311 34636 34636 37736 37736 40215 40215 42308\n",
       " 42308 44038 44038 45604 45604 47073 47073 48450 48450 49795 49795 51130\n",
       " 52497 52497 53913 53913 55392 56860 56860 58325 59763 59763 61091 62522\n",
       " 62522 63987 65491 65491 67013 68577 70182 70182 71856 73460 75201 75201\n",
       " 76975 78996 81394 83992 83992 86665 89253 91656 93782 95809 97539 99215\n",
       " 99215 100769 102291 103801 105330 106909 108445 110048 111590 113309\n",
       " 115104 116955 118751 120670 122586 124608 126806 129215 131865 134491\n",
       " 137120 139805 142216 146651 148631 150561 152486 154425 156483 158720\n",
       " 163541 165952 168458 170869 173376 178003 180243 182520 184866 189558\n",
       " 191910 194131 196409 200583 202381 204110 206998 208314 209599 211821\n",
       " 212887 213922 215877 216889 218772 219713 220711 222680 223670 225649\n",
       " 226620 228436 229272 230774 231425 232522 233060 234080 234567 235453\n",
       " 235911 236947 237479 238572 239717 240312 241539 242167 243343 244472\n",
       " 245067 246165 247174 247701 248700 249766 250890 251506 252755 253991\n",
       " 254589 255728 256873 257820 258655 258974 259541 259993 260404 260768\n",
       " 261064 261206 261431 261644 261777 261871 261930 261986 262027 262055\n",
       " 262069 262079 262085 262093 262093 262094 262094 262095 262095 262095\n",
       " 262095 262097 262097 262097 262099 262099 262099 262099 262099 262099\n",
       " 262099 262099 262099 262099 262099],\n",
       "             mask = [ True  True  True  True  True  True  True  True  True  True  True  True\n",
       "  True  True  True  True  True  True  True  True  True  True  True  True\n",
       "  True  True  True  True  True  True  True  True  True  True  True  True\n",
       "  True  True  True False False False False False False False False False\n",
       " False False False False False False False False False False False False\n",
       " False False False False False False False False False False False False\n",
       " False False False False False False False False False False False False\n",
       " False False False False False False False False False False False False\n",
       " False False False False False False False False False False False False\n",
       " False False False False False False False False False False False False\n",
       " False False False False False False False False False False False False\n",
       " False False False False False False False False False False False False\n",
       " False False False False False False False False False False False False\n",
       " False False False False False False False False False False False False\n",
       " False False False False False False False False False False False False\n",
       " False False False False False False False False False False False False\n",
       " False False False False False False False False False False False False\n",
       " False False False False False False False False False False False False\n",
       " False False False False False False False False False False False False\n",
       " False False False False False False False False False False False False\n",
       " False False False False False False False False False False False False\n",
       " False False False False],\n",
       "       fill_value = 0)"
      ]
     },
     "execution_count": 22,
     "metadata": {},
     "output_type": "execute_result"
    }
   ],
   "source": [
    "cdf_m-cdf_m.min()"
   ]
  },
  {
   "cell_type": "code",
   "execution_count": null,
   "metadata": {},
   "outputs": [],
   "source": [
    " np.ma.masked_equal(cdf,0)"
   ]
  },
  {
   "cell_type": "code",
   "execution_count": null,
   "metadata": {},
   "outputs": [],
   "source": [
    "from PIL import Image\n",
    "im = Image.fromarray(img2)\n",
    "im.show()"
   ]
  },
  {
   "cell_type": "code",
   "execution_count": null,
   "metadata": {
    "collapsed": true
   },
   "outputs": [],
   "source": [
    "new_img=np.zeros((int(M),int(N)),np.uint8)"
   ]
  },
  {
   "cell_type": "code",
   "execution_count": null,
   "metadata": {},
   "outputs": [],
   "source": [
    "for i in range(M):\n",
    "\t\tfor j in range(N):\n",
    "\t\t\tnew_img[i, j] = cdf1[img[i, j]]"
   ]
  },
  {
   "cell_type": "code",
   "execution_count": null,
   "metadata": {
    "collapsed": true
   },
   "outputs": [],
   "source": [
    "from PIL import Image\n",
    "im = Image.fromarray(new_img)\n",
    "im.show()"
   ]
  },
  {
   "cell_type": "code",
   "execution_count": null,
   "metadata": {
    "collapsed": true
   },
   "outputs": [],
   "source": []
  },
  {
   "cell_type": "code",
   "execution_count": null,
   "metadata": {},
   "outputs": [],
   "source": [
    "plt.plot(hist)\n",
    "plt.show()"
   ]
  },
  {
   "cell_type": "code",
   "execution_count": null,
   "metadata": {
    "collapsed": true
   },
   "outputs": [],
   "source": []
  },
  {
   "cell_type": "code",
   "execution_count": null,
   "metadata": {
    "collapsed": true
   },
   "outputs": [],
   "source": [
    "unique, counts = np.unique(img, return_counts=True)"
   ]
  },
  {
   "cell_type": "code",
   "execution_count": null,
   "metadata": {
    "collapsed": true
   },
   "outputs": [],
   "source": [
    "unique,co"
   ]
  },
  {
   "cell_type": "code",
   "execution_count": null,
   "metadata": {},
   "outputs": [],
   "source": [
    "l= len(unique)"
   ]
  },
  {
   "cell_type": "code",
   "execution_count": null,
   "metadata": {},
   "outputs": [],
   "source": [
    "total = sum(counts)"
   ]
  },
  {
   "cell_type": "code",
   "execution_count": null,
   "metadata": {
    "collapsed": true
   },
   "outputs": [],
   "source": [
    "pcf=[0 for i in range(l)]\n",
    "cdf=[0 for i in range(l)]\n",
    "cdf2=[0 for i in range(l)]"
   ]
  },
  {
   "cell_type": "code",
   "execution_count": null,
   "metadata": {},
   "outputs": [],
   "source": [
    "for i in range(l):\n",
    "    pcf[i]=counts[i]"
   ]
  },
  {
   "cell_type": "code",
   "execution_count": null,
   "metadata": {},
   "outputs": [],
   "source": [
    "cdf[0]=pcf[0]\n",
    "for i in range(1,l):\n",
    "    cdf[i]=pcf[i]\n",
    "    cdf[i]=cdf[i-1]+cdf[i]"
   ]
  },
  {
   "cell_type": "code",
   "execution_count": null,
   "metadata": {},
   "outputs": [],
   "source": [
    "for i in range(l):\n",
    "    print unique[i],counts[i], cdf[i]\n",
    "    #cdf2=(cdf[i]/total)"
   ]
  },
  {
   "cell_type": "code",
   "execution_count": null,
   "metadata": {},
   "outputs": [],
   "source": [
    "for i in range(l):\n",
    "    cdf2[i]=cdf[i]*(l-1)"
   ]
  },
  {
   "cell_type": "code",
   "execution_count": null,
   "metadata": {},
   "outputs": [],
   "source": [
    "cdf3=cdf2/total"
   ]
  },
  {
   "cell_type": "code",
   "execution_count": null,
   "metadata": {},
   "outputs": [],
   "source": [
    "for i in range(l):\n",
    "    print unique[i],cdf3[i],counts[i]"
   ]
  },
  {
   "cell_type": "code",
   "execution_count": null,
   "metadata": {},
   "outputs": [],
   "source": [
    "hist1,bins = np.histogram(img.flatten(),256,[0,256])"
   ]
  },
  {
   "cell_type": "code",
   "execution_count": null,
   "metadata": {
    "collapsed": true
   },
   "outputs": [],
   "source": [
    "cdf4 = hist1.cumsum()"
   ]
  },
  {
   "cell_type": "code",
   "execution_count": null,
   "metadata": {},
   "outputs": [],
   "source": [
    "cdf_normalized = cdf4 * hist1.max()/ cdf4.max()"
   ]
  },
  {
   "cell_type": "code",
   "execution_count": null,
   "metadata": {},
   "outputs": [],
   "source": [
    "cdf_normalized"
   ]
  },
  {
   "cell_type": "code",
   "execution_count": null,
   "metadata": {
    "collapsed": true
   },
   "outputs": [],
   "source": []
  },
  {
   "cell_type": "code",
   "execution_count": null,
   "metadata": {
    "collapsed": true
   },
   "outputs": [],
   "source": [
    "hist2=[0 for i in range(256)]"
   ]
  },
  {
   "cell_type": "code",
   "execution_count": null,
   "metadata": {
    "collapsed": true
   },
   "outputs": [],
   "source": [
    "for i in range(l):\n",
    "    j=cdf3[i]\n",
    "    hist2[j]=counts[i]"
   ]
  },
  {
   "cell_type": "code",
   "execution_count": null,
   "metadata": {},
   "outputs": [],
   "source": [
    "plt.plot(hist2)"
   ]
  },
  {
   "cell_type": "code",
   "execution_count": null,
   "metadata": {},
   "outputs": [],
   "source": [
    "plt.show()"
   ]
  },
  {
   "cell_type": "code",
   "execution_count": null,
   "metadata": {
    "collapsed": true
   },
   "outputs": [],
   "source": []
  }
 ],
 "metadata": {
  "kernelspec": {
   "display_name": "Python 2",
   "language": "python",
   "name": "python2"
  },
  "language_info": {
   "codemirror_mode": {
    "name": "ipython",
    "version": 2
   },
   "file_extension": ".py",
   "mimetype": "text/x-python",
   "name": "python",
   "nbconvert_exporter": "python",
   "pygments_lexer": "ipython2",
   "version": "2.7.13"
  }
 },
 "nbformat": 4,
 "nbformat_minor": 2
}
