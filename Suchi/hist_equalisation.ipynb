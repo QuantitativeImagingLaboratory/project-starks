{
 "cells": [
  {
   "cell_type": "code",
   "execution_count": 1,
   "metadata": {},
   "outputs": [],
   "source": [
    "import cv2\n",
    "import sys\n",
    "import numpy as np\n",
    "from numpy.random import rand\n",
    "from datetime import datetime\n",
    "from numpy import zeros, newaxis\n",
    "from matplotlib import pyplot as plt\n",
    "import math,cmath\n",
    "from PIL import Image"
   ]
  },
  {
   "cell_type": "code",
   "execution_count": 2,
   "metadata": {},
   "outputs": [],
   "source": [
    "img=cv2.imread(\"/Users/suchismithavedala/Desktop/Fall 2017/DIP/Assignment 2/assignment-2-Suchismitha-Vedala/Lenna0.jpg\",0)"
   ]
  },
  {
   "cell_type": "code",
   "execution_count": null,
   "metadata": {},
   "outputs": [],
   "source": [
    "M,N=img.shape\n",
    "hist=[0 for i in range(256)]\n",
    "for i in range(M):\n",
    "    for j in range(N):\n",
    "        hist[img[i,j]]=hist[img[i,j]]+1\n",
    "        \n",
    "cdf = [sum(hist[:i+1]) for i in range(len(hist))]\n",
    "cdf1=[0 for i in range(256)]\n",
    "m1 = min(i for i in cdf if i > 0)\n",
    "m2=np.max(cdf)\n",
    "c=m2-m1\n",
    "for i in range(256):\n",
    "    if(cdf[i]>0):\n",
    "        cdf1[i]=round((cdf[i]-m1)*255/(c))\n",
    "    else:\n",
    "        cdf1[i]=round(cdf[i])\n",
    "new_img=np.zeros((int(M),int(N)),np.uint8)\n",
    "for i in range(M):\n",
    "    for j in range(N):\n",
    "        img[i, j] = cdf1[img[i, j]]\n",
    "\n",
    "equalized_hist=[0 for i in range(256)]\n",
    "for i in range(M):\n",
    "    for j in range(N):\n",
    "        equalized_hist[img[i,j]]=equalized_hist[img[i,j]]+1\n",
    "\n",
    "im=Image.fromarray(img)\n",
    "im.show()\n",
    "plt.plot(hist)\n",
    "plt.show()\n"
   ]
  },
  {
   "cell_type": "code",
   "execution_count": null,
   "metadata": {},
   "outputs": [],
   "source": [
    "M,N,c=img.shape"
   ]
  },
  {
   "cell_type": "code",
   "execution_count": null,
   "metadata": {},
   "outputs": [],
   "source": [
    "histx=[0 for i in range(256)]\n",
    "histy=[0 for i in range(256)]\n",
    "histz=[0 for i in range(256)]\n",
    "\n",
    "for i in range(M):\n",
    "    for j in range(N):\n",
    "        histx[img[i,j,0]]=histx[img[i,j,0]]+1\n",
    "        histy[img[i,j,1]]=histy[img[i,j,1]]+1\n",
    "        histz[img[i,j,2]]=histz[img[i,j,2]]+1\n",
    "        \n",
    "    "
   ]
  },
  {
   "cell_type": "code",
   "execution_count": null,
   "metadata": {},
   "outputs": [],
   "source": [
    "cdfx = [sum(histx[:i+1]) for i in range(len(histx))]\n",
    "cdfy=  [sum(histy[:i+1]) for i in range(len(histy))]\n",
    "cdfz=  [sum(histz[:i+1]) for i in range(len(histz))]"
   ]
  },
  {
   "cell_type": "code",
   "execution_count": null,
   "metadata": {},
   "outputs": [],
   "source": [
    "cdf1x=[0 for i in range(256)]\n",
    "cdf1y=[0 for i in range(256)]\n",
    "cdf1z=[0 for i in range(256)]\n"
   ]
  },
  {
   "cell_type": "code",
   "execution_count": null,
   "metadata": {},
   "outputs": [],
   "source": [
    "m1x = min(i for i in cdfx if i > 0)\n",
    "m1y = min(i for i in cdfy if i > 0)\n",
    "m1z = min(i for i in cdfz if i > 0)"
   ]
  },
  {
   "cell_type": "code",
   "execution_count": null,
   "metadata": {},
   "outputs": [],
   "source": [
    "m2x=np.max(cdfx)\n",
    "m2y=np.max(cdfy)\n",
    "m2z=np.max(cdfz)"
   ]
  },
  {
   "cell_type": "code",
   "execution_count": null,
   "metadata": {},
   "outputs": [],
   "source": [
    "cx=m2x-m1x\n",
    "cy=m2y-m1y\n",
    "cz=m2z-m1z"
   ]
  },
  {
   "cell_type": "code",
   "execution_count": null,
   "metadata": {},
   "outputs": [],
   "source": [
    "for i in range(256):\n",
    "    if(cdfx[i]>0):\n",
    "        cdf1x[i]=round(cdfx[i]-m1x)*255/(cx)\n",
    "        \n",
    "    else:\n",
    "        cdf1x[i]=round(cdfx[i])\n",
    "for i in range(256):\n",
    "    if(cdfy[i]>0):\n",
    "        cdf1y[i]=round(cdfy[i]-m1y)*255/(cy)\n",
    "        \n",
    "    else:\n",
    "        cdf1y[i]=round(cdfy[i])\n",
    "        \n",
    "for i in range(256):\n",
    "    if(cdfz[i]>0):\n",
    "        cdf1z[i]=round(cdfz[i]-m1z)*255/(cz)\n",
    "        \n",
    "    else:\n",
    "        cdf1z[i]=round(cdfz[i])\n",
    "        \n",
    "        "
   ]
  },
  {
   "cell_type": "code",
   "execution_count": null,
   "metadata": {},
   "outputs": [],
   "source": [
    "new_img=np.zeros((int(M),int(N),int(c)),np.uint8)\n",
    "for i in range(M):\n",
    "    for j in range(N):\n",
    "        new_img[i, j,:] = [cdf1x[img[i, j,0]],cdf1y[img[i, j,1]],cdf1z[img[i, j,2]]]\n",
    "        #new_img[i, j,1] = cdf1y[img[i, j,1]]\n",
    "        #new_img[i, j,2] = cdf1z[img[i, j,2]]\n"
   ]
  },
  {
   "cell_type": "code",
   "execution_count": null,
   "metadata": {},
   "outputs": [],
   "source": [
    "hist1=[0 for i in range(256)]\n",
    "for i in range(M):\n",
    "    for j in range(N):\n",
    "        hist1[new_img[i,j,0]]=hist1[new_img[i,j,0]]+1"
   ]
  },
  {
   "cell_type": "code",
   "execution_count": null,
   "metadata": {},
   "outputs": [],
   "source": [
    "plt.plot(hist1)\n",
    "plt.show()"
   ]
  },
  {
   "cell_type": "code",
   "execution_count": null,
   "metadata": {},
   "outputs": [],
   "source": []
  }
 ],
 "metadata": {
  "kernelspec": {
   "display_name": "Python 2",
   "language": "python",
   "name": "python2"
  },
  "language_info": {
   "codemirror_mode": {
    "name": "ipython",
    "version": 2
   },
   "file_extension": ".py",
   "mimetype": "text/x-python",
   "name": "python",
   "nbconvert_exporter": "python",
   "pygments_lexer": "ipython2",
   "version": "2.7.10"
  }
 },
 "nbformat": 4,
 "nbformat_minor": 2
}
